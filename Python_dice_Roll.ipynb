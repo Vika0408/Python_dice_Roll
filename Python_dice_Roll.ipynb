{
  "nbformat": 4,
  "nbformat_minor": 0,
  "metadata": {
    "colab": {
      "provenance": [],
      "authorship_tag": "ABX9TyO2wPbDLvIigYS2Q1c4tAOL",
      "include_colab_link": true
    },
    "kernelspec": {
      "name": "python3",
      "display_name": "Python 3"
    },
    "language_info": {
      "name": "python"
    }
  },
  "cells": [
    {
      "cell_type": "markdown",
      "metadata": {
        "id": "view-in-github",
        "colab_type": "text"
      },
      "source": [
        "<a href=\"https://colab.research.google.com/github/Vika0408/Python_dice_Roll/blob/main/Python_dice_Roll.ipynb\" target=\"_parent\"><img src=\"https://colab.research.google.com/assets/colab-badge.svg\" alt=\"Open In Colab\"/></a>"
      ]
    },
    {
      "cell_type": "code",
      "source": [
        "import random"
      ],
      "metadata": {
        "id": "qDR4go-dAswI"
      },
      "execution_count": null,
      "outputs": []
    },
    {
      "cell_type": "code",
      "source": [
        "DICE_ART = {\n",
        "    1 : (\n",
        "        \" _________________\",\n",
        "        \"|                 |\",\n",
        "        \"|                 |\",\n",
        "        \"|        *        |\",\n",
        "        \"|                 |\",\n",
        "        \"|_________________|\",\n",
        "    ),\n",
        "    2 : (\n",
        "        \" _________________\",\n",
        "        \"|                 |\",\n",
        "        \"|   *             |\",\n",
        "        \"|                 |\",\n",
        "        \"|             *   |\",\n",
        "        \"|_________________|\",\n",
        "    ),\n",
        "    3 : (\n",
        "        \" _________________\",\n",
        "        \"|                 |\",\n",
        "        \"|  *              |\",\n",
        "        \"|        *        |\",\n",
        "        \"|              *  |\",\n",
        "        \"|_________________|\",\n",
        "    ),\n",
        "    4 : (\n",
        "        \" _________________\",\n",
        "        \"|                 |\",\n",
        "        \"|   *         *   |\",\n",
        "        \"|                 |\",\n",
        "        \"|   *         *   |\",\n",
        "        \"|_________________|\",\n",
        "    ),\n",
        "    5 : (\n",
        "        \" _________________\",\n",
        "        \"|                 |\",\n",
        "        \"|   *         *   |\",\n",
        "        \"|        *        |\",\n",
        "        \"|   *         *   |\",\n",
        "        \"|_________________|\",\n",
        "    ),\n",
        "    6 : (\n",
        "        \" _________________\",\n",
        "        \"|                 |\",\n",
        "        \"|    *       *    |\",\n",
        "        \"|    *       *    |\",\n",
        "        \"|    *       *    |\",\n",
        "        \"|_________________|\",\n",
        "    ),\n",
        "}\n",
        "DIE_HEIGHT = len(DICE_ART[1])\n",
        "DIE_WIDTH = len(DICE_ART[1][0])\n",
        "DIE_FACE_SEPARATOR = \" \""
      ],
      "metadata": {
        "id": "Z397IzWTAxgp"
      },
      "execution_count": null,
      "outputs": []
    },
    {
      "cell_type": "code",
      "source": [
        "def parse_input(input_string):\n",
        "  if input_string.strip() in { \"1\", \"2\", \"3\", \"4\", \"5\", \"6\"} :\n",
        "    return int(input_string)\n",
        "  else :\n",
        "    print(\"Please enter a number from 1 to 6.\")\n",
        "    raise SystemExit(1)"
      ],
      "metadata": {
        "id": "lekcqqfn99e9"
      },
      "execution_count": null,
      "outputs": []
    },
    {
      "cell_type": "code",
      "source": [
        "def roll_dice(num_dice) :\n",
        "  roll_results = []\n",
        "  for _ in range(num_dice) :\n",
        "    roll = random.randint(1,6)\n",
        "    roll_results.append(roll)\n",
        "  return roll_results"
      ],
      "metadata": {
        "id": "MiGgMQhY_o05"
      },
      "execution_count": null,
      "outputs": []
    },
    {
      "cell_type": "code",
      "source": [
        "def generate_dice_faces_diagram(dice_values) :\n",
        "    dice_faces = _get_dice_faces(dice_values)\n",
        "    dice_faces_rows = _generate_dice_faces_rows(dice_faces)\n",
        "\n",
        "    width = len(dice_faces_rows[0])\n",
        "    diagram_header = \" RESULTS \".center(width, \"~\")\n",
        "\n",
        "    dice_faces_diagram = \"\\n\".join([diagram_header] + dice_faces_rows)\n",
        "    return dice_faces_diagram"
      ],
      "metadata": {
        "id": "G7Fk9v-HDX1s"
      },
      "execution_count": null,
      "outputs": []
    },
    {
      "cell_type": "code",
      "source": [
        "def _get_dice_faces(dice_values) :\n",
        "  dice_faces = []\n",
        "  for value in dice_values :\n",
        "    dice_faces.append(DICE_ART[value])\n",
        "  return dice_faces"
      ],
      "metadata": {
        "id": "da--4aMxHmoM"
      },
      "execution_count": null,
      "outputs": []
    },
    {
      "cell_type": "code",
      "source": [
        "def _generate_dice_faces_rows(dice_faces):\n",
        "    dice_faces_rows = []\n",
        "    for row_idx in range(DIE_HEIGHT):\n",
        "        row_components = []\n",
        "        for die in dice_faces:\n",
        "            row_components.append(die[row_idx])\n",
        "        row_string = DIE_FACE_SEPARATOR.join(row_components)\n",
        "        dice_faces_rows.append(row_string)\n",
        "    return dice_faces_rows"
      ],
      "metadata": {
        "id": "PWo0-k9FIJLU"
      },
      "execution_count": null,
      "outputs": []
    },
    {
      "cell_type": "code",
      "execution_count": null,
      "metadata": {
        "colab": {
          "base_uri": "https://localhost:8080/"
        },
        "id": "iEYxh8XU9UVH",
        "outputId": "03334092-c6fb-4df0-ace7-990860743940"
      },
      "outputs": [
        {
          "name": "stdout",
          "output_type": "stream",
          "text": [
            "How many dice do you want to roll? [1-6]2\n"
          ]
        }
      ],
      "source": [
        "num_dice_input = input(\"How many dice do you want to roll? [1-6]\")\n",
        "num_dice = parse_input(num_dice_input)"
      ]
    },
    {
      "cell_type": "code",
      "source": [
        "roll_results = roll_dice(num_dice)"
      ],
      "metadata": {
        "id": "YElPJC4AAOZv"
      },
      "execution_count": null,
      "outputs": []
    },
    {
      "cell_type": "code",
      "source": [
        "dice_face_diagram = generate_dice_faces_diagram(roll_results)"
      ],
      "metadata": {
        "id": "DaOiY-MiAhpp"
      },
      "execution_count": null,
      "outputs": []
    },
    {
      "cell_type": "code",
      "source": [
        "print(f\"\\n{dice_face_diagram}\")"
      ],
      "metadata": {
        "colab": {
          "base_uri": "https://localhost:8080/"
        },
        "id": "pOwnfSVkG2O1",
        "outputId": "9ef3471d-d029-440b-d2b8-a09118f36a96"
      },
      "execution_count": null,
      "outputs": [
        {
          "output_type": "stream",
          "name": "stdout",
          "text": [
            "\n",
            "~~~~~~~~~~~~~~ RESULTS ~~~~~~~~~~~~~~\n",
            " _________________  _________________\n",
            "|                 | |                 |\n",
            "|    *       *    | |   *         *   |\n",
            "|    *       *    | |        *        |\n",
            "|    *       *    | |   *         *   |\n",
            "|_________________| |_________________|\n"
          ]
        }
      ]
    }
  ]
}